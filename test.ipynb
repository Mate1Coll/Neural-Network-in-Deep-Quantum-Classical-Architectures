{
 "cells": [
  {
   "cell_type": "code",
   "execution_count": 1,
   "id": "8d5340f9",
   "metadata": {},
   "outputs": [],
   "source": [
    "import numpy as np\n",
    "import qutip"
   ]
  },
  {
   "cell_type": "code",
   "execution_count": 114,
   "id": "3862372d",
   "metadata": {},
   "outputs": [],
   "source": [
    "g = 0.8\n",
    "N_meas = 10000\n",
    "sup = np.exp(-g**2/2)\n",
    "M_qubit = np.array([[1, sup],[sup, 1]])\n",
    "QM_qubit = qutip.Qobj(M_qubit)"
   ]
  },
  {
   "cell_type": "code",
   "execution_count": 115,
   "id": "f7c8fe36",
   "metadata": {},
   "outputs": [
    {
     "data": {
      "text/latex": [
       "Quantum object: dims=[[2], [2]], shape=(2, 2), type='oper', dtype=Dense, isherm=True$$\\left(\\begin{array}{cc}1 & 0.726\\\\0.726 & 1\\end{array}\\right)$$"
      ],
      "text/plain": [
       "Quantum object: dims=[[2], [2]], shape=(2, 2), type='oper', dtype=Dense, isherm=True\n",
       "Qobj data =\n",
       "[[1.         0.72614904]\n",
       " [0.72614904 1.        ]]"
      ]
     },
     "execution_count": 115,
     "metadata": {},
     "output_type": "execute_result"
    }
   ],
   "source": [
    "QM_qubit"
   ]
  },
  {
   "cell_type": "code",
   "execution_count": 116,
   "id": "07b77dad",
   "metadata": {},
   "outputs": [
    {
     "data": {
      "text/latex": [
       "Quantum object: dims=[[2, 2], [2, 2]], shape=(4, 4), type='oper', dtype=Dense, isherm=True$$\\left(\\begin{array}{cc}1 & 0.726 & 0.726 & 0.527\\\\0.726 & 1 & 0.527 & 0.726\\\\0.726 & 0.527 & 1 & 0.726\\\\0.527 & 0.726 & 0.726 & 1\\end{array}\\right)$$"
      ],
      "text/plain": [
       "Quantum object: dims=[[2, 2], [2, 2]], shape=(4, 4), type='oper', dtype=Dense, isherm=True\n",
       "Qobj data =\n",
       "[[1.         0.72614904 0.72614904 0.52729242]\n",
       " [0.72614904 1.         0.52729242 0.72614904]\n",
       " [0.72614904 0.52729242 1.         0.72614904]\n",
       " [0.52729242 0.72614904 0.72614904 1.        ]]"
      ]
     },
     "execution_count": 116,
     "metadata": {},
     "output_type": "execute_result"
    }
   ],
   "source": [
    "M = qutip.tensor(QM_qubit for _ in range(2))\n",
    "M"
   ]
  },
  {
   "cell_type": "code",
   "execution_count": 117,
   "id": "d3f2855f",
   "metadata": {},
   "outputs": [
    {
     "data": {
      "text/latex": [
       "Quantum object: dims=[[2, 2], [2, 2]], shape=(4, 4), type='oper', dtype=Dense, isherm=True$$\\left(\\begin{array}{cc}0.282 & (0.024-0.037j) & (-0.004-0.023j) & (-0.088-0.140j)\\\\(0.024+0.037j) & 0.033 & (0.056+0.004j) & (-0.006-0.039j)\\\\(-0.004+0.023j) & (0.056-0.004j) & 0.342 & (0.057-0.225j)\\\\(-0.088+0.140j) & (-0.006+0.039j) & (0.057+0.225j) & 0.343\\end{array}\\right)$$"
      ],
      "text/plain": [
       "Quantum object: dims=[[2, 2], [2, 2]], shape=(4, 4), type='oper', dtype=Dense, isherm=True\n",
       "Qobj data =\n",
       "[[ 0.28214825+0.j          0.0239924 -0.03671457j -0.00370335-0.02285874j\n",
       "  -0.08800221-0.14017756j]\n",
       " [ 0.0239924 +0.03671457j  0.03302357+0.j          0.05604219+0.00352245j\n",
       "  -0.00567785-0.03947318j]\n",
       " [-0.00370335+0.02285874j  0.05604219-0.00352245j  0.34231667+0.j\n",
       "   0.05746103-0.22538231j]\n",
       " [-0.08800221+0.14017756j -0.00567785+0.03947318j  0.05746103+0.22538231j\n",
       "   0.34251151+0.j        ]]"
      ]
     },
     "execution_count": 117,
     "metadata": {},
     "output_type": "execute_result"
    }
   ],
   "source": [
    "rho = qutip.rand_dm(2*[2])\n",
    "rho"
   ]
  },
  {
   "cell_type": "code",
   "execution_count": 118,
   "id": "24fa53f8",
   "metadata": {},
   "outputs": [
    {
     "data": {
      "text/latex": [
       "Quantum object: dims=[[2, 2], [2, 2]], shape=(4, 4), type='oper', dtype=Dense, isherm=True$$\\left(\\begin{array}{cc}0.282 & (0.017-0.027j) & (-0.003-0.017j) & (-0.046-0.074j)\\\\(0.017+0.027j) & 0.033 & (0.030+0.002j) & (-0.004-0.029j)\\\\(-0.003+0.017j) & (0.030-0.002j) & 0.342 & (0.042-0.164j)\\\\(-0.046+0.074j) & (-0.004+0.029j) & (0.042+0.164j) & 0.343\\end{array}\\right)$$"
      ],
      "text/plain": [
       "Quantum object: dims=[[2, 2], [2, 2]], shape=(4, 4), type='oper', dtype=Dense, isherm=True\n",
       "Qobj data =\n",
       "[[ 0.28214825+0.j          0.01742206-0.02666025j -0.00268918-0.01659885j\n",
       "  -0.0464029 -0.07391456j]\n",
       " [ 0.01742206+0.02666025j  0.03302357+0.j          0.02955062+0.00185736j\n",
       "  -0.00412296-0.02866341j]\n",
       " [-0.00268918+0.01659885j  0.02955062-0.00185736j  0.34231667+0.j\n",
       "   0.04172527-0.16366115j]\n",
       " [-0.0464029 +0.07391456j -0.00412296+0.02866341j  0.04172527+0.16366115j\n",
       "   0.34251151+0.j        ]]"
      ]
     },
     "execution_count": 118,
     "metadata": {},
     "output_type": "execute_result"
    }
   ],
   "source": [
    "qutip.Qobj(np.multiply(M.full(), rho.full()), dims = rho.dims)"
   ]
  },
  {
   "cell_type": "code",
   "execution_count": 119,
   "id": "1ddcc677",
   "metadata": {},
   "outputs": [
    {
     "name": "stdout",
     "output_type": "stream",
     "text": [
      "0.016007810593582122 0.02198101274541291\n"
     ]
    }
   ],
   "source": [
    "g2 = g**2\n",
    "std = np.sqrt((g2 +1)/(g2*N_meas))\n",
    "noise = np.random.normal(0,std)\n",
    "print(std,noise)"
   ]
  },
  {
   "cell_type": "code",
   "execution_count": 12,
   "id": "2a1170b9",
   "metadata": {},
   "outputs": [
    {
     "data": {
      "text/latex": [
       "Quantum object: dims=[[2], [2]], shape=(2, 2), type='oper', dtype=CSR, isherm=True$$\\left(\\begin{array}{cc}0.707 & 0.707\\\\0.707 & -0.707\\end{array}\\right)$$"
      ],
      "text/plain": [
       "Quantum object: dims=[[2], [2]], shape=(2, 2), type='oper', dtype=CSR, isherm=True\n",
       "Qobj data =\n",
       "[[ 0.70710678  0.70710678]\n",
       " [ 0.70710678 -0.70710678]]"
      ]
     },
     "execution_count": 12,
     "metadata": {},
     "output_type": "execute_result"
    }
   ],
   "source": [
    "Had_qubit = qutip.gates.snot()\n",
    "Had_qubit"
   ]
  },
  {
   "cell_type": "code",
   "execution_count": 26,
   "id": "8ab27a60",
   "metadata": {},
   "outputs": [
    {
     "data": {
      "text/latex": [
       "Quantum object: dims=[[2, 2], [2, 2]], shape=(4, 4), type='oper', dtype=CSR, isherm=True$$\\left(\\begin{array}{cc}0.500 & 0.500 & 0.500 & 0.500\\\\0.500 & -0.500 & 0.500 & -0.500\\\\0.500 & 0.500 & -0.500 & -0.500\\\\0.500 & -0.500 & -0.500 & 0.500\\end{array}\\right)$$"
      ],
      "text/plain": [
       "Quantum object: dims=[[2, 2], [2, 2]], shape=(4, 4), type='oper', dtype=CSR, isherm=True\n",
       "Qobj data =\n",
       "[[ 0.5  0.5  0.5  0.5]\n",
       " [ 0.5 -0.5  0.5 -0.5]\n",
       " [ 0.5  0.5 -0.5 -0.5]\n",
       " [ 0.5 -0.5 -0.5  0.5]]"
      ]
     },
     "execution_count": 26,
     "metadata": {},
     "output_type": "execute_result"
    }
   ],
   "source": [
    "Had = qutip.tensor(Had_qubit for _ in range(2))\n",
    "Had"
   ]
  },
  {
   "cell_type": "code",
   "execution_count": 38,
   "id": "66a1da97",
   "metadata": {},
   "outputs": [
    {
     "data": {
      "text/latex": [
       "Quantum object: dims=[[2, 2], [2, 2]], shape=(4, 4), type='oper', dtype=CSR, isherm=False$$\\left(\\begin{array}{cc}1 & 0 & 0 & 0\\\\0 & -1j & 0 & 0\\\\0 & 0 & -1j & 0\\\\0 & 0 & 0 & -1\\end{array}\\right)$$"
      ],
      "text/plain": [
       "Quantum object: dims=[[2, 2], [2, 2]], shape=(4, 4), type='oper', dtype=CSR, isherm=False\n",
       "Qobj data =\n",
       "[[ 1.000000e+00-0.0000000e+00j  0.000000e+00+0.0000000e+00j\n",
       "   0.000000e+00+0.0000000e+00j  0.000000e+00+0.0000000e+00j]\n",
       " [ 0.000000e+00+0.0000000e+00j  6.123234e-17-1.0000000e+00j\n",
       "   0.000000e+00+0.0000000e+00j  0.000000e+00+0.0000000e+00j]\n",
       " [ 0.000000e+00+0.0000000e+00j  0.000000e+00+0.0000000e+00j\n",
       "   6.123234e-17-1.0000000e+00j  0.000000e+00+0.0000000e+00j]\n",
       " [ 0.000000e+00+0.0000000e+00j  0.000000e+00+0.0000000e+00j\n",
       "   0.000000e+00+0.0000000e+00j -1.000000e+00-1.2246468e-16j]]"
      ]
     },
     "execution_count": 38,
     "metadata": {},
     "output_type": "execute_result"
    }
   ],
   "source": [
    "S_qubit = qutip.gates.phasegate(np.pi/2)\n",
    "S = qutip.tensor(S_qubit for _ in range(2))\n",
    "S.dag()"
   ]
  },
  {
   "cell_type": "code",
   "execution_count": 30,
   "id": "b145a290",
   "metadata": {},
   "outputs": [
    {
     "data": {
      "text/latex": [
       "Quantum object: dims=[[2, 2], [2, 2]], shape=(4, 4), type='oper', dtype=CSR, isherm=False$$\\left(\\begin{array}{cc}0.500 & 0.500j & 0.500j & -0.500\\\\0.500 & -0.500j & 0.500j & 0.500\\\\0.500 & 0.500j & -0.500j & 0.500\\\\0.500 & -0.500j & -0.500j & -0.500\\end{array}\\right)$$"
      ],
      "text/plain": [
       "Quantum object: dims=[[2, 2], [2, 2]], shape=(4, 4), type='oper', dtype=CSR, isherm=False\n",
       "Qobj data =\n",
       "[[ 0.5+0.j   0. +0.5j  0. +0.5j -0.5+0.j ]\n",
       " [ 0.5+0.j   0. -0.5j  0. +0.5j  0.5+0.j ]\n",
       " [ 0.5+0.j   0. +0.5j  0. -0.5j  0.5+0.j ]\n",
       " [ 0.5+0.j   0. -0.5j  0. -0.5j -0.5+0.j ]]"
      ]
     },
     "execution_count": 30,
     "metadata": {},
     "output_type": "execute_result"
    }
   ],
   "source": [
    "Had*S"
   ]
  }
 ],
 "metadata": {
  "kernelspec": {
   "display_name": ".venv",
   "language": "python",
   "name": "python3"
  },
  "language_info": {
   "codemirror_mode": {
    "name": "ipython",
    "version": 3
   },
   "file_extension": ".py",
   "mimetype": "text/x-python",
   "name": "python",
   "nbconvert_exporter": "python",
   "pygments_lexer": "ipython3",
   "version": "3.12.3"
  }
 },
 "nbformat": 4,
 "nbformat_minor": 5
}
