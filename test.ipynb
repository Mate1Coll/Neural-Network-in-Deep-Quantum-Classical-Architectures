{
 "cells": [
  {
   "cell_type": "code",
   "execution_count": 12,
   "id": "8d5340f9",
   "metadata": {},
   "outputs": [],
   "source": [
    "import numpy as np\n",
    "import qutip"
   ]
  },
  {
   "cell_type": "code",
   "execution_count": 19,
   "id": "a8b372e2",
   "metadata": {},
   "outputs": [],
   "source": [
    "data = np.load('results/data/back_action/' \\\n",
    "'x/Qinp/QRC/qubit/L4_Js1_h3_W0.01_dt0.5_V1_D1_Nrep1_MeasStr_0.2' \\\n",
    "'/Iter_0.npz', allow_pickle=True)"
   ]
  },
  {
   "cell_type": "code",
   "execution_count": 20,
   "id": "5d555318",
   "metadata": {},
   "outputs": [
    {
     "data": {
      "text/plain": [
       "(4000, 10)"
      ]
     },
     "execution_count": 20,
     "metadata": {},
     "output_type": "execute_result"
    }
   ],
   "source": [
    "data['obs'].shape"
   ]
  },
  {
   "cell_type": "code",
   "execution_count": 24,
   "id": "62d79204",
   "metadata": {},
   "outputs": [],
   "source": [
    "a = b = c =None"
   ]
  },
  {
   "cell_type": "code",
   "execution_count": 26,
   "id": "bfe4b66c",
   "metadata": {},
   "outputs": [
    {
     "name": "stdout",
     "output_type": "stream",
     "text": [
      "None\n"
     ]
    }
   ],
   "source": [
    "print(a)"
   ]
  }
 ],
 "metadata": {
  "kernelspec": {
   "display_name": ".venv",
   "language": "python",
   "name": "python3"
  },
  "language_info": {
   "codemirror_mode": {
    "name": "ipython",
    "version": 3
   },
   "file_extension": ".py",
   "mimetype": "text/x-python",
   "name": "python",
   "nbconvert_exporter": "python",
   "pygments_lexer": "ipython3",
   "version": "3.12.3"
  }
 },
 "nbformat": 4,
 "nbformat_minor": 5
}
